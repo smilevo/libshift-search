{
 "cells": [
  {
   "cell_type": "markdown",
   "id": "1cfcf466",
   "metadata": {},
   "source": [
    "# Pre-Execution\n",
    "\n",
    "## Things needed \n",
    "- Download the dataset from [here]()\n",
    "- Add the path to the 'ARTIFACTS_PATH' variable in the code below or in the .env file\n",
    "\n",
    "-  This project comes with an updated pipfile. You can install the dependencies using the command below:\n",
    "```bash\n",
    "pipenv install\n",
    "```\n",
    "\n",
    "\n",
    "\n"
   ]
  },
  {
   "cell_type": "code",
   "execution_count": 1,
   "id": "31450f6e",
   "metadata": {},
   "outputs": [
    {
     "name": "stderr",
     "output_type": "stream",
     "text": [
      "/Users/anushkrishnav/.local/share/virtualenvs/libshift-search-__H4PE3S/lib/python3.11/site-packages/tqdm/auto.py:21: TqdmWarning: IProgress not found. Please update jupyter and ipywidgets. See https://ipywidgets.readthedocs.io/en/stable/user_install.html\n",
      "  from .autonotebook import tqdm as notebook_tqdm\n"
     ]
    }
   ],
   "source": [
    "import os\n",
    "from src.utils import *\n",
    "from src.libshift_search import LibshiftSearch\n",
    "import dotenv\n",
    "from src.config import Config\n",
    "from src.db_handler import DBHandler\n",
    "config = Config(dev_mode=False)"
   ]
  },
  {
   "cell_type": "code",
   "execution_count": 2,
   "id": "642aeadc",
   "metadata": {},
   "outputs": [],
   "source": [
    "OUTPUT_PATH = 'output'\n",
    "if not os.path.exists(OUTPUT_PATH):\n",
    "    os.makedirs(OUTPUT_PATH)"
   ]
  },
  {
   "cell_type": "code",
   "execution_count": 3,
   "id": "26690027",
   "metadata": {},
   "outputs": [],
   "source": [
    "'''\n",
    "Our Work focuses on finding potential replacements for deprecated api methods across the following libraries:\n",
    "- pydantic\n",
    "- scipy\n",
    "- pandas\n",
    "- sqlalchemy\n",
    "- numpy\n",
    "- pytorch\n",
    "'''\n",
    "LIBS = [ 'pydantic', 'scipy', 'pandas', 'sqlalchemy', 'numpy', 'pytorch']\n",
    "FEATURES = [\"name\", \"code\", \"docstring\", \"nodoc\"]\n",
    "TOPKs = [1, 3, 5, 7, 10, 15]\n"
   ]
  },
  {
   "cell_type": "markdown",
   "id": "f06604b7",
   "metadata": {},
   "source": [
    "This example is aimed as a quick look into the flow and hence uses a fixed best config of feature type: model setting The full search code will be available in the notebook add link to 02_grid_search_results.ipynb"
   ]
  },
  {
   "cell_type": "code",
   "execution_count": 5,
   "id": "30f6401c",
   "metadata": {},
   "outputs": [
    {
     "data": {
      "text/plain": [
       "['id',\n",
       " 'name',\n",
       " 'code',\n",
       " 'docstring',\n",
       " 'nodoc',\n",
       " 'name_ibm-granite_granite-embedding-125m-english',\n",
       " 'code_w601sxs_b1ade-embed',\n",
       " 'doc_ibm-granite_granite-embedding-125m-english',\n",
       " 'nodoc_avsolatorio_GIST-large-Embedding-v0']"
      ]
     },
     "execution_count": 5,
     "metadata": {},
     "output_type": "execute_result"
    }
   ],
   "source": [
    "best_model_config = {\n",
    "    'name': 'ibm-granite/granite-embedding-125m-english',\n",
    "    'code': 'w601sxs/b1ade-embed',\n",
    "    'doc': 'ibm-granite/granite-embedding-125m-english',\n",
    "    'nodoc': 'avsolatorio/GIST-large-Embedding-v0'\n",
    "}\n",
    "    \n",
    "model_cols = filter_read_cols(best_model_config)\n",
    "filter_cols =['id'] + FEATURES + model_cols\n",
    "filter_cols"
   ]
  },
  {
   "cell_type": "code",
   "execution_count": 6,
   "id": "3e4328b8",
   "metadata": {},
   "outputs": [
    {
     "name": "stderr",
     "output_type": "stream",
     "text": [
      "Loading snapshots: 100%|██████████| 6/6 [05:09<00:00, 51.61s/repo]"
     ]
    },
    {
     "name": "stdout",
     "output_type": "stream",
     "text": [
      "Loaded 6 snapshots from /Volumes/AnushHD/libshiftartifacts//snapshot_embeddings/\n"
     ]
    },
    {
     "name": "stderr",
     "output_type": "stream",
     "text": [
      "\n"
     ]
    }
   ],
   "source": [
    "removed_df = pd.read_pickle(f\"{config.ARTIFACTS_PATH}/removed_methods/removed_methods.pkl\")\n",
    "val_df = pd.read_csv(f\"{config.ARTIFACTS_PATH}/validation_data/clean_val.csv\")\n",
    "folder = f\"{config.ARTIFACTS_PATH}/snapshot_embeddings/\"\n",
    "snapshot_dict = get_snapshot_dict(folder, LIBS)\n",
    "\n",
    "# Pytorch Snapshot is rather large, so it will take up a lot of space and time to load\n"
   ]
  },
  {
   "cell_type": "code",
   "execution_count": 7,
   "id": "22c505ab",
   "metadata": {},
   "outputs": [
    {
     "name": "stdout",
     "output_type": "stream",
     "text": [
      "Cleaning SQLite lock files in: /Volumes/AnushHD/libshiftartifacts/similarity_cache.db\n"
     ]
    }
   ],
   "source": [
    "db = DBHandler(config)\n",
    "search = LibshiftSearch(\n",
    "    model_dict=best_model_config,\n",
    "    removed_df=removed_df,\n",
    "    snapshot_dictionary=snapshot_dict,\n",
    "    validation_df=val_df,\n",
    "    features=FEATURES,\n",
    "    db_handler=db,\n",
    "    top_ks=TOPKs,\n",
    "    )"
   ]
  },
  {
   "cell_type": "code",
   "execution_count": 8,
   "id": "d3b374e6",
   "metadata": {},
   "outputs": [],
   "source": [
    "search_data, results, match_json, combined_hits_df = search.controller('cosine')\n",
    "db.close()"
   ]
  },
  {
   "cell_type": "code",
   "execution_count": 10,
   "id": "20da6a04",
   "metadata": {},
   "outputs": [
    {
     "data": {
      "text/html": [
       "<div>\n",
       "<style scoped>\n",
       "    .dataframe tbody tr th:only-of-type {\n",
       "        vertical-align: middle;\n",
       "    }\n",
       "\n",
       "    .dataframe tbody tr th {\n",
       "        vertical-align: top;\n",
       "    }\n",
       "\n",
       "    .dataframe thead th {\n",
       "        text-align: right;\n",
       "    }\n",
       "</style>\n",
       "<table border=\"1\" class=\"dataframe\">\n",
       "  <thead>\n",
       "    <tr style=\"text-align: right;\">\n",
       "      <th></th>\n",
       "      <th>Combined Top-k</th>\n",
       "      <th>Correct Replacements</th>\n",
       "    </tr>\n",
       "  </thead>\n",
       "  <tbody>\n",
       "    <tr>\n",
       "      <th>0</th>\n",
       "      <td>1</td>\n",
       "      <td>29</td>\n",
       "    </tr>\n",
       "    <tr>\n",
       "      <th>1</th>\n",
       "      <td>3</td>\n",
       "      <td>62</td>\n",
       "    </tr>\n",
       "    <tr>\n",
       "      <th>2</th>\n",
       "      <td>5</td>\n",
       "      <td>75</td>\n",
       "    </tr>\n",
       "    <tr>\n",
       "      <th>3</th>\n",
       "      <td>7</td>\n",
       "      <td>77</td>\n",
       "    </tr>\n",
       "    <tr>\n",
       "      <th>4</th>\n",
       "      <td>10</td>\n",
       "      <td>84</td>\n",
       "    </tr>\n",
       "    <tr>\n",
       "      <th>5</th>\n",
       "      <td>15</td>\n",
       "      <td>84</td>\n",
       "    </tr>\n",
       "  </tbody>\n",
       "</table>\n",
       "</div>"
      ],
      "text/plain": [
       "   Combined Top-k  Correct Replacements\n",
       "0               1                    29\n",
       "1               3                    62\n",
       "2               5                    75\n",
       "3               7                    77\n",
       "4              10                    84\n",
       "5              15                    84"
      ]
     },
     "execution_count": 10,
     "metadata": {},
     "output_type": "execute_result"
    }
   ],
   "source": [
    "combined_hits_df"
   ]
  },
  {
   "cell_type": "code",
   "execution_count": null,
   "id": "47e50d39",
   "metadata": {},
   "outputs": [],
   "source": [
    "# for mode in [ \"cosine_soft\", \"dot\", \"angular\", \"euclidean\",\"cosine\"]:\n",
    "        # search_data, results, match_json, combined_hits_df = search.controller(mode)\n",
    "        # db.close()\n",
    "        # output_path = os.path.join(OUTPUT_PATH, f\"results_{mode}.csv\")\n",
    "        # results.to_csv(output_path, index=False)"
   ]
  },
  {
   "cell_type": "markdown",
   "id": "cc06c8a0",
   "metadata": {},
   "source": []
  }
 ],
 "metadata": {
  "kernelspec": {
   "display_name": "libshift-search-__H4PE3S",
   "language": "python",
   "name": "python3"
  },
  "language_info": {
   "codemirror_mode": {
    "name": "ipython",
    "version": 3
   },
   "file_extension": ".py",
   "mimetype": "text/x-python",
   "name": "python",
   "nbconvert_exporter": "python",
   "pygments_lexer": "ipython3",
   "version": "3.11.12"
  }
 },
 "nbformat": 4,
 "nbformat_minor": 5
}
