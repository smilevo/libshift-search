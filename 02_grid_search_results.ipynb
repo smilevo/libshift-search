{
 "cells": [
  {
   "cell_type": "code",
   "execution_count": 1,
   "id": "aff2aa5f",
   "metadata": {},
   "outputs": [
    {
     "name": "stderr",
     "output_type": "stream",
     "text": [
      "/Users/anushkrishnav/.local/share/virtualenvs/libshift-search-__H4PE3S/lib/python3.11/site-packages/tqdm/auto.py:21: TqdmWarning: IProgress not found. Please update jupyter and ipywidgets. See https://ipywidgets.readthedocs.io/en/stable/user_install.html\n",
      "  from .autonotebook import tqdm as notebook_tqdm\n"
     ]
    }
   ],
   "source": [
    "from itertools import product\n",
    "\n",
    "from src.utils import *\n",
    "from src.config import Config\n",
    "from src.db_handler import DBHandler\n",
    "from src.libshift_search import LibshiftSearch\n"
   ]
  },
  {
   "cell_type": "code",
   "execution_count": 2,
   "id": "7398ce55",
   "metadata": {},
   "outputs": [],
   "source": [
    "config = Config(dev_mode=False)\n",
    "\n",
    "OUTPUT_PATH = 'output'\n",
    "if not os.path.exists(OUTPUT_PATH):\n",
    "    os.makedirs(OUTPUT_PATH)"
   ]
  },
  {
   "cell_type": "code",
   "execution_count": null,
   "id": "8701120f",
   "metadata": {},
   "outputs": [],
   "source": [
    "\n",
    "LIBS = [ 'pydantic', 'scipy', 'pandas', 'sqlalchemy', 'numpy', 'pytorch']\n",
    "FEATURES = [\"name\", \"code\", \"docstring\", \"nodoc\"]\n",
    "TOPKs = [1, 3, 5, 7, 10, 15]\n",
    "models = [\n",
    "    'Alibaba-NLP/gte-large-en-v1.5',\n",
    "    'avsolatorio/GIST-Embedding-v0',\n",
    "    'avsolatorio/GIST-large-Embedding-v0',\n",
    "    'ibm-granite/granite-embedding-125m-english',\n",
    "    'intfloat/e5-large-v2',\n",
    "    'w601sxs/b1ade-embed',    \n",
    "]\n",
    "combinations = [\n",
    "    dict(zip(FEATURES, combo))\n",
    "    for combo in product(models, repeat=len(FEATURES))\n",
    "]"
   ]
  },
  {
   "cell_type": "code",
   "execution_count": 4,
   "id": "4e4cf0ca",
   "metadata": {},
   "outputs": [],
   "source": [
    "\n",
    "model_cols = [filter_read_cols(combo) for combo in combinations]\n",
    "model_cols = list(set([col for sublist in model_cols for col in sublist]))\n",
    "filter_cols =['id'] + FEATURES + model_cols"
   ]
  },
  {
   "cell_type": "code",
   "execution_count": 5,
   "id": "cb8de705",
   "metadata": {},
   "outputs": [
    {
     "name": "stderr",
     "output_type": "stream",
     "text": [
      "Loading snapshots: 100%|██████████| 6/6 [05:00<00:00, 50.01s/repo]"
     ]
    },
    {
     "name": "stdout",
     "output_type": "stream",
     "text": [
      "Loaded 6 snapshots from /Volumes/AnushHD/libshiftartifacts//snapshot_embeddings/\n"
     ]
    },
    {
     "name": "stderr",
     "output_type": "stream",
     "text": [
      "\n"
     ]
    }
   ],
   "source": [
    "removed_df = pd.read_pickle(f\"{config.ARTIFACTS_PATH}/removed_methods/removed_methods.pkl\")\n",
    "val_df = pd.read_csv(f\"{config.ARTIFACTS_PATH}/validation_data/clean_val.csv\")\n",
    "folder = f\"{config.ARTIFACTS_PATH}/snapshot_embeddings/\"\n",
    "snapshot_dict = get_snapshot_dict(folder, LIBS)\n",
    "\n"
   ]
  },
  {
   "cell_type": "code",
   "execution_count": 6,
   "id": "3c54f9d8",
   "metadata": {},
   "outputs": [
    {
     "name": "stdout",
     "output_type": "stream",
     "text": [
      "Cleaning SQLite lock files in: /Volumes/AnushHD/libshiftartifacts/similarity_cache.db\n"
     ]
    },
    {
     "name": "stdout",
     "output_type": "stream",
     "text": [
      "Removed lock file: similarity_cache.db-wal\n"
     ]
    },
    {
     "name": "stderr",
     "output_type": "stream",
     "text": [
      "100%|██████████| 1296/1296 [1:40:43<00:00,  4.66s/it]\n"
     ]
    }
   ],
   "source": [
    "db = DBHandler(config)\n",
    "results_df = pd.DataFrame()\n",
    "search_df = pd.DataFrame()\n",
    "libwise_agg_df = pd.DataFrame()\n",
    "matches = []\n",
    "for best_config in tqdm(combinations):\n",
    "    search = LibshiftSearch(\n",
    "        model_dict=best_config,\n",
    "        removed_df=removed_df,\n",
    "        snapshot_dictionary=snapshot_dict,\n",
    "        validation_df=val_df,\n",
    "        features=FEATURES,\n",
    "        db_handler=db,\n",
    "        top_ks=TOPKs,\n",
    "        )\n",
    "    mode = \"cosine\"\n",
    "    search_data, results, match_json,combined_hits_df = search.controller(mode)\n",
    "    output_path = os.path.join(OUTPUT_PATH, f\"results_{mode}.csv\")\n",
    "    results_df = pd.concat([results_df, results], ignore_index=True)\n",
    "    search_df['config'] = best_config\n",
    "    search_df = pd.concat([search_df, search_data], ignore_index=True)\n",
    "    matches.extend(match_json)\n",
    "\n",
    "\n",
    "db.close()\n"
   ]
  },
  {
   "cell_type": "code",
   "execution_count": 15,
   "id": "877a7651",
   "metadata": {},
   "outputs": [],
   "source": [
    "results_df.to_csv(os.path.join(OUTPUT_PATH, f\"updated_grid_search_results_{mode}.csv\"), index=False)\n",
    "\n"
   ]
  },
  {
   "cell_type": "code",
   "execution_count": 16,
   "id": "c973802c",
   "metadata": {},
   "outputs": [],
   "source": [
    "search_df.to_csv(os.path.join(OUTPUT_PATH, f\"updated_grid_search_data_{mode}.csv\"), index=False)"
   ]
  },
  {
   "cell_type": "code",
   "execution_count": 17,
   "id": "2931b256",
   "metadata": {},
   "outputs": [],
   "source": [
    "import json \n",
    "\n",
    "with open(os.path.join(OUTPUT_PATH, f\"updated_grid_search_matches_{mode}.json\"), 'w') as f:\n",
    "    json.dump(matches, f, indent=4)"
   ]
  }
 ],
 "metadata": {
  "kernelspec": {
   "display_name": "libshift-search-__H4PE3S",
   "language": "python",
   "name": "python3"
  },
  "language_info": {
   "codemirror_mode": {
    "name": "ipython",
    "version": 3
   },
   "file_extension": ".py",
   "mimetype": "text/x-python",
   "name": "python",
   "nbconvert_exporter": "python",
   "pygments_lexer": "ipython3",
   "version": "3.11.12"
  }
 },
 "nbformat": 4,
 "nbformat_minor": 5
}
